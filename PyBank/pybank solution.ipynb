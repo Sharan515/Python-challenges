{
 "cells": [
  {
   "cell_type": "code",
   "execution_count": 2,
   "id": "81513bd9-51ec-4582-b8bf-8a2b25d0e22e",
   "metadata": {},
   "outputs": [
    {
     "name": "stdout",
     "output_type": "stream",
     "text": [
      "Header: ['Date', 'Profit/Losses']\n",
      "Financial Analysis\n",
      "....................................................................................\n",
      "Total Months: 86\n",
      "Total: $22564198\n",
      "Average Change: $-8311.11\n",
      "Greatest Increase in Profits: Aug-16 ($1862002)\n",
      "Greatest Decrease in Profits: Feb-14 ($-1825558)\n"
     ]
    }
   ],
   "source": [
    "import os\n",
    "import csv\n",
    "\n",
    "# Join path\n",
    "budget_data = os.path.join(\"Resources\", \"budget_data.csv\")\n",
    "\n",
    "# Open and read CSV\n",
    "with open(budget_data, newline=\"\") as csvfile:\n",
    "    csvreader = csv.reader(csvfile, delimiter=',')\n",
    "    csv_header = next(csvreader)\n",
    "    print(f\"Header: {csv_header}\")\n",
    "\n",
    "    # Initialize lists\n",
    "    P = []  # List to store profit/loss\n",
    "    months = []  # List to store months\n",
    "\n",
    "    # Read each row of data after header\n",
    "    for rows in csvreader:\n",
    "        P.append(int(rows[1]))\n",
    "        months.append(rows[0])\n",
    "\n",
    "    # Find revenue change\n",
    "    revenue_change = []\n",
    "    for x in range(1, len(P)):\n",
    "        revenue_change.append(P[x] - P[x-1])\n",
    "\n",
    "    # Calculate average revenue change\n",
    "    revenue_average_change = sum(revenue_change) / len(revenue_change)\n",
    "    revenue_average = round(revenue_average_change, 2)\n",
    "\n",
    "    # Calculate total length of months and total sum of profit/loss\n",
    "    total_months = len(months)\n",
    "    total_sum = sum(P)\n",
    "\n",
    "    # Find greatest increase and decrease in revenue\n",
    "    greatest_increase = max(revenue_change)\n",
    "    greatest_decrease = min(revenue_change)\n",
    "\n",
    "    # Get the corresponding months for greatest increase and decrease\n",
    "    greatest_increase_month = months[revenue_change.index(greatest_increase) + 1]\n",
    "    greatest_decrease_month = months[revenue_change.index(greatest_decrease) + 1]\n",
    "\n",
    "    # Print results\n",
    "    print(\"Financial Analysis\")\n",
    "    print(\"....................................................................................\")\n",
    "    print(f\"Total Months: {total_months}\")\n",
    "    print(f\"Total: ${total_sum}\")\n",
    "    print(f\"Average Change: ${revenue_average}\")\n",
    "    print(f\"Greatest Increase in Profits: {greatest_increase_month} (${greatest_increase})\")\n",
    "    print(f\"Greatest Decrease in Profits: {greatest_decrease_month} (${greatest_decrease})\")\n",
    "\n",
    "    # Output to a text file\n",
    "    with open(\"output.txt\", \"w\") as file:\n",
    "        file.write(\"Financial Analysis\\n\")\n",
    "        file.write(\"....................................................................................\\n\")\n",
    "        file.write(f\"Total Months: {total_months}\\n\")\n",
    "        file.write(f\"Total: ${total_sum}\\n\")\n",
    "        file.write(f\"Average Change: ${revenue_average}\\n\")\n",
    "        file.write(f\"Greatest Increase in Profits: {greatest_increase_month} (${greatest_increase})\\n\")\n",
    "        file.write(f\"Greatest Decrease in Profits: {greatest_decrease_month} (${greatest_decrease})\\n\")\n"
   ]
  },
  {
   "cell_type": "code",
   "execution_count": null,
   "id": "9f622a0e-61d8-4536-9a3c-7306ba6fcc03",
   "metadata": {},
   "outputs": [],
   "source": []
  }
 ],
 "metadata": {
  "kernelspec": {
   "display_name": "Python 3 (ipykernel)",
   "language": "python",
   "name": "python3"
  },
  "language_info": {
   "codemirror_mode": {
    "name": "ipython",
    "version": 3
   },
   "file_extension": ".py",
   "mimetype": "text/x-python",
   "name": "python",
   "nbconvert_exporter": "python",
   "pygments_lexer": "ipython3",
   "version": "3.12.7"
  }
 },
 "nbformat": 4,
 "nbformat_minor": 5
}
